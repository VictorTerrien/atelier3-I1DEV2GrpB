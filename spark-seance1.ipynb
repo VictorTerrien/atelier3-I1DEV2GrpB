{
 "cells": [
  {
   "cell_type": "markdown",
   "id": "eb528a20",
   "metadata": {},
   "source": [
    "Envisager un métier ou un type d'utilisateur qui pourrait être intéressé par les données sélectionnées.\n",
    "\n",
    "Proposer un persona incarnant ce type d'utilisateur qui servira à proposer des indicateurs pertinents.\n",
    "\n",
    "## Persona\n",
    "\n",
    "\n"
   ]
  }
 ],
 "metadata": {
  "language_info": {
   "name": "python"
  }
 },
 "nbformat": 4,
 "nbformat_minor": 5
}
