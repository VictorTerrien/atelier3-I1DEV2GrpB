{
 "cells": [
  {
   "cell_type": "markdown",
   "id": "eb528a20",
   "metadata": {},
   "source": [
    "# Étape 3 - Chargement, pré-traitement"
   ]
  }
 ],
 "metadata": {
  "language_info": {
   "name": "python"
  }
 },
 "nbformat": 4,
 "nbformat_minor": 5
}
