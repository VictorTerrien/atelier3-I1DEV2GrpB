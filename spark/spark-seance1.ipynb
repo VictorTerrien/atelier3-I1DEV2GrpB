{
 "cells": [
  {
   "cell_type": "markdown",
   "id": "eb528a20",
   "metadata": {},
   "source": [
    "# Étape 3 - Chargement, pré-traitement"
   ]
  },
  {
   "cell_type": "code",
   "execution_count": 30,
   "id": "ede58edf",
   "metadata": {},
   "outputs": [
    {
     "data": {
      "text/plain": [
       "defined class Car\n",
       "rdd = ./data-car.csv MapPartitionsRDD[350] at textFile at <console>:68\n",
       "header = rownames,mpg,cylinders,displacement,horsepower,weight,acceleration,year,origin,name\n",
       "dataRDD = MapPartitionsRDD[351] at filter at <console>:71\n",
       "carRDD = MapPartitionsRDD[352] at map at <console>:73\n"
      ]
     },
     "metadata": {},
     "output_type": "display_data"
    },
    {
     "data": {
      "text/plain": [
       "MapPartitionsRDD[352] at map at <console>:73"
      ]
     },
     "execution_count": 30,
     "metadata": {},
     "output_type": "execute_result"
    }
   ],
   "source": [
    "import org.apache.spark.sql.functions._\n",
    "\n",
    "\n",
    "case class Car(\n",
    "  rownames: Int,\n",
    "  mpg: Double,\n",
    "  cylinders: Int,\n",
    "  displacement: Double,\n",
    "  horsepower: Double,\n",
    "  weight: Double,\n",
    "  acceleration: Double,\n",
    "  year: Int,\n",
    "  origin: Int,\n",
    "  name: String\n",
    ")\n",
    "\n",
    "val rdd = spark.sparkContext.textFile(\"./data-car.csv\")\n",
    "\n",
    "val header = rdd.first()\n",
    "val dataRDD = rdd.filter(_ != header)\n",
    "\n",
    "val carRDD = dataRDD.map(line => {\n",
    "  val cols = line.split(\",\")\n",
    "  Car(\n",
    "    cols(0).toInt,\n",
    "    cols(1).toDouble,\n",
    "    cols(2).toInt,\n",
    "    cols(3).toDouble,\n",
    "    cols(4).toInt,\n",
    "    cols(5).toDouble,\n",
    "    cols(6).toDouble,\n",
    "    cols(7).toInt,\n",
    "    cols(8).toInt,\n",
    "    cols(9)\n",
    "  )\n",
    "})\n"
   ]
  },
  {
   "cell_type": "markdown",
   "id": "cad553e8",
   "metadata": {},
   "source": [
    "# Séance 2\n",
    "\n",
    "## Étape 1 - RDD vers un dataframe"
   ]
  },
  {
   "cell_type": "code",
   "execution_count": null,
   "id": "9c22adff",
   "metadata": {},
   "outputs": [
    {
     "name": "stdout",
     "output_type": "stream",
     "text": [
      "+--------+----+---------+------------+----------+------+------------+----+------+--------------------+\n",
      "|rownames| mpg|cylinders|displacement|horsepower|weight|acceleration|year|origin|                name|\n",
      "+--------+----+---------+------------+----------+------+------------+----+------+--------------------+\n",
      "|       1|18.0|        8|       307.0|     130.0|3504.0|        12.0|  70|     1|chevrolet chevell...|\n",
      "|       2|15.0|        8|       350.0|     165.0|3693.0|        11.5|  70|     1|   buick skylark 320|\n",
      "|       3|18.0|        8|       318.0|     150.0|3436.0|        11.0|  70|     1|  plymouth satellite|\n",
      "|       4|16.0|        8|       304.0|     150.0|3433.0|        12.0|  70|     1|       amc rebel sst|\n",
      "|       5|17.0|        8|       302.0|     140.0|3449.0|        10.5|  70|     1|         ford torino|\n",
      "|       6|15.0|        8|       429.0|     198.0|4341.0|        10.0|  70|     1|    ford galaxie 500|\n",
      "|       7|14.0|        8|       454.0|     220.0|4354.0|         9.0|  70|     1|    chevrolet impala|\n",
      "|       8|14.0|        8|       440.0|     215.0|4312.0|         8.5|  70|     1|   plymouth fury iii|\n",
      "|       9|14.0|        8|       455.0|     225.0|4425.0|        10.0|  70|     1|    pontiac catalina|\n",
      "|      10|15.0|        8|       390.0|     190.0|3850.0|         8.5|  70|     1|  amc ambassador dpl|\n",
      "+--------+----+---------+------------+----------+------+------------+----+------+--------------------+\n",
      "only showing top 10 rows\n",
      "\n",
      "root\n",
      " |-- rownames: integer (nullable = false)\n",
      " |-- mpg: double (nullable = false)\n",
      " |-- cylinders: integer (nullable = false)\n",
      " |-- displacement: double (nullable = false)\n",
      " |-- horsepower: double (nullable = false)\n",
      " |-- weight: double (nullable = false)\n",
      " |-- acceleration: double (nullable = false)\n",
      " |-- year: integer (nullable = false)\n",
      " |-- origin: integer (nullable = false)\n",
      " |-- name: string (nullable = true)\n",
      "\n",
      "+-------+------------------+------------------+-----------------+------------------+------------------+------------------+------------------+-----------------+------------------+--------------------+\n",
      "|summary|          rownames|               mpg|        cylinders|      displacement|        horsepower|            weight|      acceleration|             year|            origin|                name|\n",
      "+-------+------------------+------------------+-----------------+------------------+------------------+------------------+------------------+-----------------+------------------+--------------------+\n",
      "|  count|               392|               392|              392|               392|               392|               392|               392|              392|               392|                 392|\n",
      "|   mean| 198.5204081632653|23.445918367346938|5.471938775510204|194.41198979591837|104.46938775510205|2977.5841836734694|15.541326530612247| 75.9795918367347|1.5765306122448979|                NULL|\n",
      "| stddev|114.43806706553057|7.8050074865717995|1.705783247452785|104.64400390890464| 38.49115993282846|  849.402560042949| 2.758864119188081|3.683736543577854|0.8055181834183056|                NULL|\n",
      "|    min|                 1|               9.0|                3|              68.0|              46.0|            1613.0|               8.0|               70|                 1|amc ambassador br...|\n",
      "|    25%|                99|              17.0|                4|             105.0|              75.0|            2223.0|              13.7|               73|                 1|                NULL|\n",
      "|    50%|               198|              22.5|                4|             151.0|              93.0|            2800.0|              15.5|               76|                 1|                NULL|\n",
      "|    75%|               296|              29.0|                8|             267.0|             125.0|            3613.0|              17.0|               79|                 2|                NULL|\n",
      "|    max|               397|              46.6|                8|             455.0|             230.0|            5140.0|              24.8|               82|                 3|    vw rabbit custom|\n",
      "+-------+------------------+------------------+-----------------+------------------+------------------+------------------+------------------+-----------------+------------------+--------------------+\n",
      "\n",
      "+------+\n",
      "|origin|\n",
      "+------+\n",
      "|     1|\n",
      "|     3|\n",
      "|     2|\n",
      "+------+\n",
      "\n",
      "+--------+--------+\n",
      "|min(mpg)|max(mpg)|\n",
      "+--------+--------+\n",
      "|     9.0|    46.6|\n",
      "+--------+--------+\n",
      "\n"
     ]
    },
    {
     "data": {
      "text/plain": [
       "carDF = [rownames: int, mpg: double ... 8 more fields]\n"
      ]
     },
     "metadata": {},
     "output_type": "display_data"
    },
    {
     "name": "stdout",
     "output_type": "stream",
     "text": [
      "+---------------+---------------+\n",
      "|min(horsepower)|max(horsepower)|\n",
      "+---------------+---------------+\n",
      "|           46.0|          230.0|\n",
      "+---------------+---------------+\n",
      "\n"
     ]
    },
    {
     "data": {
      "text/plain": [
       "[rownames: int, mpg: double ... 8 more fields]"
      ]
     },
     "execution_count": 31,
     "metadata": {},
     "output_type": "execute_result"
    }
   ],
   "source": [
    "val carDF = carRDD.toDF()\n",
    "\n",
    "carDF.show(10)\n",
    "carDF.printSchema()\n",
    "carDF.summary().show()\n",
    "\n",
    "carDF.select(\"origin\").distinct().show()\n",
    "carDF.select(min(\"mpg\"), max(\"mpg\")).show()\n",
    "carDF.select(min(\"horsepower\"), max(\"horsepower\")).show()\n"
   ]
  },
  {
   "cell_type": "markdown",
   "id": "75b28533",
   "metadata": {},
   "source": [
    "## Étape 2 - Extraction de dimensions"
   ]
  },
  {
   "cell_type": "code",
   "execution_count": 19,
   "id": "3709dbe1",
   "metadata": {},
   "outputs": [
    {
     "name": "stdout",
     "output_type": "stream",
     "text": [
      "+------+---------+\n",
      "|origin|id_origin|\n",
      "+------+---------+\n",
      "|     1|        0|\n",
      "|     3|        1|\n",
      "|     2|        2|\n",
      "+------+---------+\n",
      "\n",
      "+--------+----+---------+------------+----------+------+------------+----+--------------------+---------+\n",
      "|rownames| mpg|cylinders|displacement|horsepower|weight|acceleration|year|                name|id_origin|\n",
      "+--------+----+---------+------------+----------+------+------------+----+--------------------+---------+\n",
      "|       1|18.0|        8|       307.0|     130.0|3504.0|        12.0|  70|chevrolet chevell...|        0|\n",
      "|       2|15.0|        8|       350.0|     165.0|3693.0|        11.5|  70|   buick skylark 320|        0|\n",
      "|       3|18.0|        8|       318.0|     150.0|3436.0|        11.0|  70|  plymouth satellite|        0|\n",
      "+--------+----+---------+------------+----------+------+------------+----+--------------------+---------+\n",
      "only showing top 3 rows\n",
      "\n",
      "+---------+------------+\n",
      "|cylinders|id_cylinders|\n",
      "+---------+------------+\n",
      "|        6|           0|\n",
      "|        3|           1|\n",
      "|        4|           2|\n",
      "+---------+------------+\n",
      "only showing top 3 rows\n",
      "\n",
      "+--------+----+------------+----------+------+------------+----+--------------------+---------+------------+\n",
      "|rownames| mpg|displacement|horsepower|weight|acceleration|year|                name|id_origin|id_cylinders|\n",
      "+--------+----+------------+----------+------+------------+----+--------------------+---------+------------+\n",
      "|       1|18.0|       307.0|     130.0|3504.0|        12.0|  70|chevrolet chevell...|        0|           3|\n",
      "|       2|15.0|       350.0|     165.0|3693.0|        11.5|  70|   buick skylark 320|        0|           3|\n",
      "|       3|18.0|       318.0|     150.0|3436.0|        11.0|  70|  plymouth satellite|        0|           3|\n",
      "+--------+----+------------+----------+------+------------+----+--------------------+---------+------------+\n",
      "only showing top 3 rows\n",
      "\n"
     ]
    },
    {
     "data": {
      "text/plain": [
       "dfOrigin = [origin: int, id_origin: bigint]\n",
       "carDF_withOriginID = [rownames: int, mpg: double ... 8 more fields]\n",
       "dfCylinders = [cylinders: int, id_cylinders: bigint]\n",
       "carDF_enriched = [rownames: int, mpg: double ... 8 more fields]\n"
      ]
     },
     "metadata": {},
     "output_type": "display_data"
    },
    {
     "data": {
      "text/plain": [
       "[rownames: int, mpg: double ... 8 more fields]"
      ]
     },
     "execution_count": 19,
     "metadata": {},
     "output_type": "execute_result"
    }
   ],
   "source": [
    "import org.apache.spark.sql.functions.monotonically_increasing_id\n",
    "\n",
    "val dfOrigin = carDF\n",
    "  .select(\"origin\")\n",
    "  .distinct()\n",
    "  .withColumn(\"id_origin\", monotonically_increasing_id())\n",
    "\n",
    "  dfOrigin.show(3)\n",
    "\n",
    "val carDF_withOriginID = carDF\n",
    "  .join(dfOrigin, Seq(\"origin\"))\n",
    "  .drop(\"origin\")\n",
    "\n",
    "  carDF_withOriginID.show(3)\n",
    "\n",
    "val dfCylinders = carDF\n",
    "  .select(\"cylinders\")\n",
    "  .distinct()\n",
    "  .withColumn(\"id_cylinders\", monotonically_increasing_id())\n",
    "\n",
    "dfCylinders.show(3)\n",
    "\n",
    "\n",
    "val carDF_enriched = carDF_withOriginID\n",
    "  .join(dfCylinders, Seq(\"cylinders\"))\n",
    "  .drop(\"cylinders\")\n",
    "\n",
    "carDF_enriched.show(3)\n",
    "\n"
   ]
  },
  {
   "cell_type": "markdown",
   "id": "861e7c5a",
   "metadata": {},
   "source": [
    "## Étape 3 - Tables Hive, SQL"
   ]
  },
  {
   "cell_type": "code",
   "execution_count": 24,
   "id": "62382b96",
   "metadata": {},
   "outputs": [
    {
     "name": "stdout",
     "output_type": "stream",
     "text": [
      "+--------------------+----------+\n",
      "|                name|horsepower|\n",
      "+--------------------+----------+\n",
      "|  pontiac grand prix|     230.0|\n",
      "|    pontiac catalina|     225.0|\n",
      "|buick estate wago...|     225.0|\n",
      "+--------------------+----------+\n",
      "only showing top 3 rows\n",
      "\n",
      "+--------+\n",
      "|count(1)|\n",
      "+--------+\n",
      "|       3|\n",
      "+--------+\n",
      "\n"
     ]
    },
    {
     "data": {
      "text/plain": [
       "hc = org.apache.spark.sql.hive.HiveContext@361a6881\n"
      ]
     },
     "metadata": {},
     "output_type": "display_data"
    },
    {
     "data": {
      "text/plain": [
       "warning: one deprecation (since 2.0.0); for details, enable `:setting -deprecation' or `:replay -deprecation'\n"
      ]
     },
     "metadata": {},
     "output_type": "display_data"
    },
    {
     "data": {
      "text/plain": [
       "org.apache.spark.sql.hive.HiveContext@361a6881"
      ]
     },
     "execution_count": 24,
     "metadata": {},
     "output_type": "execute_result"
    }
   ],
   "source": [
    "import org.apache.spark.sql.hive.HiveContext\n",
    "\n",
    "val hc = new HiveContext(sc)\n",
    "\n",
    "carDF_enriched.write.mode(\"overwrite\").saveAsTable(\"cars\")\n",
    "dfOrigin.write.mode(\"overwrite\").saveAsTable(\"dim_origin\")\n",
    "dfCylinders.write.mode(\"overwrite\").saveAsTable(\"dim_cylinders\")\n",
    "\n",
    "hc.sql(\"SELECT name, horsepower FROM cars ORDER BY horsepower DESC LIMIT 10\").show(3)\n",
    "hc.sql(\"SELECT COUNT(*) FROM dim_origin\").show()\n"
   ]
  }
 ],
 "metadata": {
  "kernelspec": {
   "display_name": "Apache Toree - Scala",
   "language": "scala",
   "name": "apache_toree_scala"
  },
  "language_info": {
   "codemirror_mode": "text/x-scala",
   "file_extension": ".scala",
   "mimetype": "text/x-scala",
   "name": "scala",
   "pygments_lexer": "scala",
   "version": "2.12.15"
  }
 },
 "nbformat": 4,
 "nbformat_minor": 5
}
