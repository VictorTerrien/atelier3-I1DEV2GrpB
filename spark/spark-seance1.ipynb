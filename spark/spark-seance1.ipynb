{
 "cells": [
  {
   "cell_type": "markdown",
   "id": "eb528a20",
   "metadata": {},
   "source": [
    "# Étape 3 - Chargement, pré-traitement"
   ]
  },
  {
   "cell_type": "code",
   "execution_count": 9,
   "id": "ede58edf",
   "metadata": {},
   "outputs": [
    {
     "data": {
      "text/plain": [
       "lastException = null\n",
       "defined class Car\n",
       "rdd = ./data-car.csv MapPartitionsRDD[82] at textFile at <console>:49\n",
       "header = rownames,mpg,cylinders,displacement,horsepower,weight,acceleration,year,origin,name\n",
       "dataRDD = MapPartitionsRDD[83] at filter at <console>:52\n",
       "carRDD = MapPartitionsRDD[84] at map at <console>:54\n"
      ]
     },
     "metadata": {},
     "output_type": "display_data"
    },
    {
     "data": {
      "text/plain": [
       "MapPartitionsRDD[84] at map at <console>:54"
      ]
     },
     "execution_count": 9,
     "metadata": {},
     "output_type": "execute_result"
    }
   ],
   "source": [
    "import org.apache.spark.sql.functions._\n",
    "\n",
    "\n",
    "case class Car(\n",
    "  rownames: Int,\n",
    "  mpg: Double,\n",
    "  cylinders: Int,\n",
    "  displacement: Double,\n",
    "  horsepower: Double,\n",
    "  weight: Double,\n",
    "  acceleration: Double,\n",
    "  year: Int,\n",
    "  origin: Int,\n",
    "  name: String\n",
    ")\n",
    "\n",
    "val rdd = spark.sparkContext.textFile(\"./data-car.csv\")\n",
    "\n",
    "val header = rdd.first()\n",
    "val dataRDD = rdd.filter(_ != header)\n",
    "\n",
    "val carRDD = dataRDD.map(line => {\n",
    "  val cols = line.split(\",\")\n",
    "  Car(\n",
    "    cols(0).toInt,\n",
    "    cols(1).toDouble,\n",
    "    cols(2).toInt,\n",
    "    cols(3).toDouble,\n",
    "    cols(4).toInt,\n",
    "    cols(5).toDouble,\n",
    "    cols(6).toDouble,\n",
    "    cols(7).toInt,\n",
    "    cols(8).toInt,\n",
    "    cols(9)\n",
    "  )\n",
    "})\n"
   ]
  },
  {
   "cell_type": "markdown",
   "id": "cad553e8",
   "metadata": {},
   "source": [
    "# Séance 2\n",
    "\n",
    "## Étape 1 - RDD vers un dataframe"
   ]
  },
  {
   "cell_type": "code",
   "execution_count": 10,
   "id": "9bb571bd",
   "metadata": {},
   "outputs": [
    {
     "data": {
      "text/plain": [
       "carDF = [rownames: int, mpg: double ... 8 more fields]\n"
      ]
     },
     "metadata": {},
     "output_type": "display_data"
    },
    {
     "name": "stdout",
     "output_type": "stream",
     "text": [
      "+--------+----+---------+------------+----------+------+------------+----+------+--------------------+\n",
      "|rownames| mpg|cylinders|displacement|horsepower|weight|acceleration|year|origin|                name|\n",
      "+--------+----+---------+------------+----------+------+------------+----+------+--------------------+\n",
      "|       1|18.0|        8|       307.0|     130.0|3504.0|        12.0|  70|     1|chevrolet chevell...|\n",
      "|       2|15.0|        8|       350.0|     165.0|3693.0|        11.5|  70|     1|   buick skylark 320|\n",
      "|       3|18.0|        8|       318.0|     150.0|3436.0|        11.0|  70|     1|  plymouth satellite|\n",
      "|       4|16.0|        8|       304.0|     150.0|3433.0|        12.0|  70|     1|       amc rebel sst|\n",
      "|       5|17.0|        8|       302.0|     140.0|3449.0|        10.5|  70|     1|         ford torino|\n",
      "|       6|15.0|        8|       429.0|     198.0|4341.0|        10.0|  70|     1|    ford galaxie 500|\n",
      "|       7|14.0|        8|       454.0|     220.0|4354.0|         9.0|  70|     1|    chevrolet impala|\n",
      "|       8|14.0|        8|       440.0|     215.0|4312.0|         8.5|  70|     1|   plymouth fury iii|\n",
      "|       9|14.0|        8|       455.0|     225.0|4425.0|        10.0|  70|     1|    pontiac catalina|\n",
      "|      10|15.0|        8|       390.0|     190.0|3850.0|         8.5|  70|     1|  amc ambassador dpl|\n",
      "+--------+----+---------+------------+----------+------+------------+----+------+--------------------+\n",
      "only showing top 10 rows\n",
      "\n"
     ]
    },
    {
     "data": {
      "text/plain": [
       "[rownames: int, mpg: double ... 8 more fields]"
      ]
     },
     "execution_count": 10,
     "metadata": {},
     "output_type": "execute_result"
    }
   ],
   "source": [
    "val carDF = carRDD.toDF()\n",
    "\n",
    "carDF.show(10)"
   ]
  },
  {
   "cell_type": "code",
   "execution_count": 11,
   "id": "d68ac04f",
   "metadata": {},
   "outputs": [
    {
     "name": "stdout",
     "output_type": "stream",
     "text": [
      "root\n",
      " |-- rownames: integer (nullable = false)\n",
      " |-- mpg: double (nullable = false)\n",
      " |-- cylinders: integer (nullable = false)\n",
      " |-- displacement: double (nullable = false)\n",
      " |-- horsepower: double (nullable = false)\n",
      " |-- weight: double (nullable = false)\n",
      " |-- acceleration: double (nullable = false)\n",
      " |-- year: integer (nullable = false)\n",
      " |-- origin: integer (nullable = false)\n",
      " |-- name: string (nullable = true)\n",
      "\n"
     ]
    }
   ],
   "source": [
    "carDF.printSchema()\n"
   ]
  },
  {
   "cell_type": "code",
   "execution_count": 12,
   "id": "d424a33c",
   "metadata": {},
   "outputs": [
    {
     "name": "stdout",
     "output_type": "stream",
     "text": [
      "+-------+------------------+------------------+-----------------+------------------+------------------+------------------+------------------+-----------------+------------------+--------------------+\n",
      "|summary|          rownames|               mpg|        cylinders|      displacement|        horsepower|            weight|      acceleration|             year|            origin|                name|\n",
      "+-------+------------------+------------------+-----------------+------------------+------------------+------------------+------------------+-----------------+------------------+--------------------+\n",
      "|  count|               392|               392|              392|               392|               392|               392|               392|              392|               392|                 392|\n",
      "|   mean| 198.5204081632653|23.445918367346938|5.471938775510204|194.41198979591837|104.46938775510205|2977.5841836734694|15.541326530612247| 75.9795918367347|1.5765306122448979|                NULL|\n",
      "| stddev|114.43806706553057|7.8050074865717995|1.705783247452785|104.64400390890464| 38.49115993282846|  849.402560042949| 2.758864119188081|3.683736543577854|0.8055181834183056|                NULL|\n",
      "|    min|                 1|               9.0|                3|              68.0|              46.0|            1613.0|               8.0|               70|                 1|amc ambassador br...|\n",
      "|    25%|                99|              17.0|                4|             105.0|              75.0|            2223.0|              13.7|               73|                 1|                NULL|\n",
      "|    50%|               198|              22.5|                4|             151.0|              93.0|            2800.0|              15.5|               76|                 1|                NULL|\n",
      "|    75%|               296|              29.0|                8|             267.0|             125.0|            3613.0|              17.0|               79|                 2|                NULL|\n",
      "|    max|               397|              46.6|                8|             455.0|             230.0|            5140.0|              24.8|               82|                 3|    vw rabbit custom|\n",
      "+-------+------------------+------------------+-----------------+------------------+------------------+------------------+------------------+-----------------+------------------+--------------------+\n",
      "\n"
     ]
    }
   ],
   "source": [
    "carDF.summary().show()\n"
   ]
  },
  {
   "cell_type": "code",
   "execution_count": 13,
   "id": "90a4a635",
   "metadata": {},
   "outputs": [
    {
     "name": "stdout",
     "output_type": "stream",
     "text": [
      "Nombre de lignes dans le DataFrame : 392\n"
     ]
    }
   ],
   "source": [
    "println(s\"Nombre de lignes dans le DataFrame : ${carDF.count()}\")\n"
   ]
  },
  {
   "cell_type": "code",
   "execution_count": 14,
   "id": "9c22adff",
   "metadata": {},
   "outputs": [
    {
     "name": "stdout",
     "output_type": "stream",
     "text": [
      "+------+\n",
      "|origin|\n",
      "+------+\n",
      "|     1|\n",
      "|     3|\n",
      "|     2|\n",
      "+------+\n",
      "\n",
      "+--------+--------+\n",
      "|min(mpg)|max(mpg)|\n",
      "+--------+--------+\n",
      "|     9.0|    46.6|\n",
      "+--------+--------+\n",
      "\n",
      "+---------------+---------------+\n",
      "|min(horsepower)|max(horsepower)|\n",
      "+---------------+---------------+\n",
      "|           46.0|          230.0|\n",
      "+---------------+---------------+\n",
      "\n"
     ]
    }
   ],
   "source": [
    "\n",
    "carDF.select(\"origin\").distinct().show()\n",
    "carDF.select(min(\"mpg\"), max(\"mpg\")).show()\n",
    "carDF.select(min(\"horsepower\"), max(\"horsepower\")).show()\n"
   ]
  },
  {
   "cell_type": "markdown",
   "id": "75b28533",
   "metadata": {},
   "source": [
    "## Étape 2 - Extraction de dimensions"
   ]
  },
  {
   "cell_type": "code",
   "execution_count": null,
   "id": "3709dbe1",
   "metadata": {},
   "outputs": [
    {
     "data": {
      "text/plain": [
       "dfOrigin = [origin: int, id_origin: bigint]\n"
      ]
     },
     "metadata": {},
     "output_type": "display_data"
    },
    {
     "name": "stdout",
     "output_type": "stream",
     "text": [
      "+------+---------+\n",
      "|origin|id_origin|\n",
      "+------+---------+\n",
      "|     1|        0|\n",
      "|     3|        1|\n",
      "|     2|        2|\n",
      "+------+---------+\n",
      "\n"
     ]
    },
    {
     "data": {
      "text/plain": [
       "[origin: int, id_origin: bigint]"
      ]
     },
     "execution_count": 46,
     "metadata": {},
     "output_type": "execute_result"
    }
   ],
   "source": [
    "import org.apache.spark.sql.functions.monotonically_increasing_id\n",
    "\n",
    "val dfOrigin = carDF\n",
    "  .select(\"origin\")\n",
    "  .distinct()\n",
    "  .withColumn(\"id_origin\", monotonically_increasing_id())\n",
    "\n",
    "  dfOrigin.show(3)\n",
    "\n"
   ]
  },
  {
   "cell_type": "code",
   "execution_count": 44,
   "id": "99f44206",
   "metadata": {},
   "outputs": [
    {
     "name": "stdout",
     "output_type": "stream",
     "text": [
      "+--------+----+---------+------------+----------+------+------------+----+--------------------+---------+\n",
      "|rownames| mpg|cylinders|displacement|horsepower|weight|acceleration|year|                name|id_origin|\n",
      "+--------+----+---------+------------+----------+------+------------+----+--------------------+---------+\n",
      "|       1|18.0|        8|       307.0|     130.0|3504.0|        12.0|  70|chevrolet chevell...|        0|\n",
      "|       2|15.0|        8|       350.0|     165.0|3693.0|        11.5|  70|   buick skylark 320|        0|\n",
      "|       3|18.0|        8|       318.0|     150.0|3436.0|        11.0|  70|  plymouth satellite|        0|\n",
      "+--------+----+---------+------------+----------+------+------------+----+--------------------+---------+\n",
      "only showing top 3 rows\n",
      "\n"
     ]
    },
    {
     "data": {
      "text/plain": [
       "carDF_withOriginID = [rownames: int, mpg: double ... 8 more fields]\n"
      ]
     },
     "metadata": {},
     "output_type": "display_data"
    },
    {
     "data": {
      "text/plain": [
       "[rownames: int, mpg: double ... 8 more fields]"
      ]
     },
     "execution_count": 44,
     "metadata": {},
     "output_type": "execute_result"
    }
   ],
   "source": [
    "val carDF_withOriginID = carDF\n",
    "  .join(dfOrigin, Seq(\"origin\"))\n",
    "  .drop(\"origin\")\n",
    "\n",
    "  carDF_withOriginID.show(3)\n"
   ]
  },
  {
   "cell_type": "code",
   "execution_count": 45,
   "id": "8bd88cad",
   "metadata": {},
   "outputs": [
    {
     "name": "stdout",
     "output_type": "stream",
     "text": [
      "+---------+------------+\n",
      "|cylinders|id_cylinders|\n",
      "+---------+------------+\n",
      "|        6|           0|\n",
      "|        3|           1|\n",
      "|        4|           2|\n",
      "+---------+------------+\n",
      "only showing top 3 rows\n",
      "\n"
     ]
    },
    {
     "data": {
      "text/plain": [
       "dfCylinders = [cylinders: int, id_cylinders: bigint]\n"
      ]
     },
     "metadata": {},
     "output_type": "display_data"
    },
    {
     "data": {
      "text/plain": [
       "[cylinders: int, id_cylinders: bigint]"
      ]
     },
     "execution_count": 45,
     "metadata": {},
     "output_type": "execute_result"
    }
   ],
   "source": [
    "val dfCylinders = carDF\n",
    "  .select(\"cylinders\")\n",
    "  .distinct()\n",
    "  .withColumn(\"id_cylinders\", monotonically_increasing_id())\n",
    "\n",
    "dfCylinders.show(3)\n"
   ]
  },
  {
   "cell_type": "code",
   "execution_count": 51,
   "id": "b68391db",
   "metadata": {},
   "outputs": [
    {
     "name": "stdout",
     "output_type": "stream",
     "text": [
      "+--------+----+------------+----------+------+------------+----+--------------------+---------+------------+\n",
      "|rownames| mpg|displacement|horsepower|weight|acceleration|year|                name|id_origin|id_cylinders|\n",
      "+--------+----+------------+----------+------+------------+----+--------------------+---------+------------+\n",
      "|       1|18.0|       307.0|     130.0|3504.0|        12.0|  70|chevrolet chevell...|        0|           3|\n",
      "|       2|15.0|       350.0|     165.0|3693.0|        11.5|  70|   buick skylark 320|        0|           3|\n",
      "|       3|18.0|       318.0|     150.0|3436.0|        11.0|  70|  plymouth satellite|        0|           3|\n",
      "|       4|16.0|       304.0|     150.0|3433.0|        12.0|  70|       amc rebel sst|        0|           3|\n",
      "|       5|17.0|       302.0|     140.0|3449.0|        10.5|  70|         ford torino|        0|           3|\n",
      "|       6|15.0|       429.0|     198.0|4341.0|        10.0|  70|    ford galaxie 500|        0|           3|\n",
      "|       7|14.0|       454.0|     220.0|4354.0|         9.0|  70|    chevrolet impala|        0|           3|\n",
      "|       8|14.0|       440.0|     215.0|4312.0|         8.5|  70|   plymouth fury iii|        0|           3|\n",
      "|       9|14.0|       455.0|     225.0|4425.0|        10.0|  70|    pontiac catalina|        0|           3|\n",
      "|      10|15.0|       390.0|     190.0|3850.0|         8.5|  70|  amc ambassador dpl|        0|           3|\n",
      "|      11|15.0|       383.0|     170.0|3563.0|        10.0|  70| dodge challenger se|        0|           3|\n",
      "|      12|14.0|       340.0|     160.0|3609.0|         8.0|  70|  plymouth 'cuda 340|        0|           3|\n",
      "|      13|15.0|       400.0|     150.0|3761.0|         9.5|  70|chevrolet monte c...|        0|           3|\n",
      "|      14|14.0|       455.0|     225.0|3086.0|        10.0|  70|buick estate wago...|        0|           3|\n",
      "|      16|22.0|       198.0|      95.0|2833.0|        15.5|  70|     plymouth duster|        0|           0|\n",
      "|      17|18.0|       199.0|      97.0|2774.0|        15.5|  70|          amc hornet|        0|           0|\n",
      "|      18|21.0|       200.0|      85.0|2587.0|        16.0|  70|       ford maverick|        0|           0|\n",
      "|      25|21.0|       199.0|      90.0|2648.0|        15.0|  70|         amc gremlin|        0|           0|\n",
      "|      26|10.0|       360.0|     215.0|4615.0|        14.0|  70|           ford f250|        0|           3|\n",
      "|      27|10.0|       307.0|     200.0|4376.0|        15.0|  70|           chevy c20|        0|           3|\n",
      "+--------+----+------------+----------+------+------------+----+--------------------+---------+------------+\n",
      "only showing top 20 rows\n",
      "\n"
     ]
    },
    {
     "data": {
      "text/plain": [
       "carDF_enriched = [rownames: int, mpg: double ... 8 more fields]\n"
      ]
     },
     "metadata": {},
     "output_type": "display_data"
    },
    {
     "data": {
      "text/plain": [
       "[rownames: int, mpg: double ... 8 more fields]"
      ]
     },
     "execution_count": 51,
     "metadata": {},
     "output_type": "execute_result"
    }
   ],
   "source": [
    "val carDF_enriched = carDF_withOriginID\n",
    "  .join(dfCylinders, Seq(\"cylinders\"))\n",
    "  .drop(\"cylinders\")\n",
    "\n",
    "carDF_enriched.show(20)\n"
   ]
  },
  {
   "cell_type": "markdown",
   "id": "861e7c5a",
   "metadata": {},
   "source": [
    "## Étape 3 - Tables Hive, SQL"
   ]
  },
  {
   "cell_type": "code",
   "execution_count": 18,
   "id": "62382b96",
   "metadata": {},
   "outputs": [
    {
     "name": "stdout",
     "output_type": "stream",
     "text": [
      "+--------------------+----------+\n",
      "|                name|horsepower|\n",
      "+--------------------+----------+\n",
      "|  pontiac grand prix|     230.0|\n",
      "|    pontiac catalina|     225.0|\n",
      "|buick estate wago...|     225.0|\n",
      "+--------------------+----------+\n",
      "only showing top 3 rows\n",
      "\n",
      "+--------+\n",
      "|count(1)|\n",
      "+--------+\n",
      "|       3|\n",
      "+--------+\n",
      "\n"
     ]
    },
    {
     "data": {
      "text/plain": [
       "lastException = null\n",
       "hc = org.apache.spark.sql.hive.HiveContext@753d0b5b\n"
      ]
     },
     "metadata": {},
     "output_type": "display_data"
    },
    {
     "data": {
      "text/plain": [
       "warning: one deprecation (since 2.0.0); for details, enable `:setting -deprecation' or `:replay -deprecation'\n"
      ]
     },
     "metadata": {},
     "output_type": "display_data"
    },
    {
     "data": {
      "text/plain": [
       "org.apache.spark.sql.hive.HiveContext@753d0b5b"
      ]
     },
     "execution_count": 18,
     "metadata": {},
     "output_type": "execute_result"
    }
   ],
   "source": [
    "import org.apache.spark.sql.hive.HiveContext\n",
    "\n",
    "val hc = new HiveContext(sc)\n",
    "\n",
    "carDF_enriched.write.mode(\"overwrite\").saveAsTable(\"cars\")\n",
    "dfOrigin.write.mode(\"overwrite\").saveAsTable(\"dim_origin\")\n",
    "dfCylinders.write.mode(\"overwrite\").saveAsTable(\"dim_cylinders\")\n",
    "\n",
    "hc.sql(\"SELECT name, horsepower FROM cars ORDER BY horsepower DESC LIMIT 10\").show(3)\n",
    "hc.sql(\"SELECT COUNT(*) FROM dim_origin\").show()\n"
   ]
  },
  {
   "cell_type": "markdown",
   "id": "a32db4b2",
   "metadata": {},
   "source": [
    "# Séance 3\n",
    "\n",
    "## Étape 1 - Agrégations"
   ]
  },
  {
   "cell_type": "code",
   "execution_count": 25,
   "id": "4c77296f",
   "metadata": {},
   "outputs": [
    {
     "name": "stdout",
     "output_type": "stream",
     "text": [
      "+------+------+---------+----------+-------+-------+\n",
      "|origin|region|mpg_moyen|nb_modeles|mpg_min|mpg_max|\n",
      "+------+------+---------+----------+-------+-------+\n",
      "|     3| Japan|    30.45|        79|   18.0|   46.6|\n",
      "|     2|Europe|     27.6|        68|   16.2|   44.3|\n",
      "|     1|   USA|    20.03|       245|    9.0|   39.0|\n",
      "+------+------+---------+----------+-------+-------+\n",
      "\n"
     ]
    },
    {
     "data": {
      "text/plain": [
       "agg1 = [origin: int, region: string ... 4 more fields]\n"
      ]
     },
     "metadata": {},
     "output_type": "display_data"
    },
    {
     "data": {
      "text/plain": [
       "[origin: int, region: string ... 4 more fields]"
      ]
     },
     "execution_count": 25,
     "metadata": {},
     "output_type": "execute_result"
    }
   ],
   "source": [
    "val agg1 = hc.sql(\"\"\"\n",
    "  SELECT \n",
    "    do.origin,\n",
    "    CASE \n",
    "      WHEN do.origin = 1 THEN 'USA'\n",
    "      WHEN do.origin = 2 THEN 'Europe'  \n",
    "      WHEN do.origin = 3 THEN 'Japan'\n",
    "    END as region,\n",
    "    ROUND(AVG(c.mpg), 2) as mpg_moyen,\n",
    "    COUNT(*) as nb_modeles,\n",
    "    ROUND(MIN(c.mpg), 2) as mpg_min,\n",
    "    ROUND(MAX(c.mpg), 2) as mpg_max\n",
    "  FROM cars c\n",
    "  JOIN dim_origin do ON c.id_origin = do.id_origin\n",
    "  GROUP BY do.origin\n",
    "  ORDER BY mpg_moyen DESC\n",
    "\"\"\")\n",
    "agg1.show()\n"
   ]
  },
  {
   "cell_type": "code",
   "execution_count": 26,
   "id": "69d8bc7e",
   "metadata": {},
   "outputs": [
    {
     "data": {
      "text/plain": [
       "agg2 = [origin: int, region: string ... 3 more fields]\n"
      ]
     },
     "metadata": {},
     "output_type": "display_data"
    },
    {
     "name": "stdout",
     "output_type": "stream",
     "text": [
      "+------+------+---------------------------+---------+------------+\n",
      "|origin|region|ratio_puissance_poids_moyen|ratio_max|nb_vehicules|\n",
      "+------+------+---------------------------+---------+------------+\n",
      "|     3| Japan|                     35.705|   45.361|          79|\n",
      "|     1|   USA|                     34.968|    72.91|         245|\n",
      "|     2|Europe|                     33.336|   50.582|          68|\n",
      "+------+------+---------------------------+---------+------------+\n",
      "\n"
     ]
    },
    {
     "data": {
      "text/plain": [
       "[origin: int, region: string ... 3 more fields]"
      ]
     },
     "execution_count": 26,
     "metadata": {},
     "output_type": "execute_result"
    }
   ],
   "source": [
    "val agg2 = hc.sql(\"\"\"\n",
    "  SELECT \n",
    "    do.origin,\n",
    "    CASE \n",
    "      WHEN do.origin = 1 THEN 'USA'\n",
    "      WHEN do.origin = 2 THEN 'Europe'  \n",
    "      WHEN do.origin = 3 THEN 'Japan'\n",
    "    END as region,\n",
    "    ROUND(AVG(c.horsepower / c.weight * 1000), 3) as ratio_puissance_poids_moyen,\n",
    "    ROUND(MAX(c.horsepower / c.weight * 1000), 3) as ratio_max,\n",
    "    COUNT(*) as nb_vehicules\n",
    "  FROM cars c\n",
    "  JOIN dim_origin do ON c.id_origin = do.id_origin\n",
    "  GROUP BY do.origin\n",
    "  ORDER BY ratio_puissance_poids_moyen DESC\n",
    "\"\"\")\n",
    "agg2.show()\n"
   ]
  },
  {
   "cell_type": "code",
   "execution_count": 52,
   "id": "3a894280",
   "metadata": {},
   "outputs": [
    {
     "name": "stdout",
     "output_type": "stream",
     "text": [
      "+-----+-----------------+---------+----------+-------------+-------------+\n",
      "|annee|puissance_moyenne|mpg_moyen|nb_modeles|puissance_min|puissance_max|\n",
      "+-----+-----------------+---------+----------+-------------+-------------+\n",
      "| 1970|            147.8|     17.7|        29|         46.0|        225.0|\n",
      "| 1971|            107.0|     21.1|        27|         60.0|        180.0|\n",
      "| 1972|            120.2|     18.7|        28|         54.0|        208.0|\n",
      "| 1973|            130.5|     17.1|        40|         46.0|        230.0|\n",
      "| 1974|             94.2|     22.8|        26|         52.0|        150.0|\n",
      "| 1975|            101.1|     20.3|        30|         53.0|        170.0|\n",
      "| 1976|            101.1|     21.6|        34|         52.0|        180.0|\n",
      "| 1977|            105.1|     23.4|        28|         58.0|        190.0|\n",
      "| 1978|             99.7|     24.1|        36|         48.0|        165.0|\n",
      "| 1979|            101.2|     25.1|        29|         65.0|        155.0|\n",
      "| 1980|             77.5|     33.8|        27|         48.0|        132.0|\n",
      "| 1981|             81.0|     30.2|        28|         58.0|        120.0|\n",
      "| 1982|             81.5|     32.0|        30|         52.0|        112.0|\n",
      "+-----+-----------------+---------+----------+-------------+-------------+\n",
      "\n"
     ]
    },
    {
     "data": {
      "text/plain": [
       "agg3 = [annee: int, puissance_moyenne: double ... 4 more fields]\n"
      ]
     },
     "metadata": {},
     "output_type": "display_data"
    },
    {
     "data": {
      "text/plain": [
       "[annee: int, puissance_moyenne: double ... 4 more fields]"
      ]
     },
     "execution_count": 52,
     "metadata": {},
     "output_type": "execute_result"
    }
   ],
   "source": [
    "val agg3 = hc.sql(\"\"\"\n",
    "  SELECT \n",
    "    (year + 1900) as annee,\n",
    "    ROUND(AVG(horsepower), 1) as puissance_moyenne,\n",
    "    ROUND(AVG(mpg), 1) as mpg_moyen,\n",
    "    COUNT(*) as nb_modeles,\n",
    "    ROUND(MIN(horsepower), 0) as puissance_min,\n",
    "    ROUND(MAX(horsepower), 0) as puissance_max\n",
    "  FROM cars\n",
    "  GROUP BY year\n",
    "  ORDER BY year ASC\n",
    "\"\"\")\n",
    "agg3.show()\n"
   ]
  },
  {
   "cell_type": "code",
   "execution_count": 53,
   "id": "8de7f393",
   "metadata": {},
   "outputs": [
    {
     "name": "stdout",
     "output_type": "stream",
     "text": [
      "+------------+--------------------+-----------------+---------+------------+-----------------+\n",
      "|nb_cylindres|acceleration_moyenne|puissance_moyenne|mpg_moyen|nb_vehicules|cylindree_moyenne|\n",
      "+------------+--------------------+-----------------+---------+------------+-----------------+\n",
      "|           3|               13.25|             99.3|     20.6|           4|             72.5|\n",
      "|           4|               16.58|             78.3|     29.3|         199|            109.7|\n",
      "|           5|               18.63|             82.3|     27.4|           3|            145.0|\n",
      "|           6|               16.25|            101.5|     20.0|          83|            218.4|\n",
      "|           8|               12.96|            158.3|     15.0|         103|            345.0|\n",
      "+------------+--------------------+-----------------+---------+------------+-----------------+\n",
      "\n"
     ]
    },
    {
     "data": {
      "text/plain": [
       "agg4 = [nb_cylindres: int, acceleration_moyenne: double ... 4 more fields]\n"
      ]
     },
     "metadata": {},
     "output_type": "display_data"
    },
    {
     "data": {
      "text/plain": [
       "[nb_cylindres: int, acceleration_moyenne: double ... 4 more fields]"
      ]
     },
     "execution_count": 53,
     "metadata": {},
     "output_type": "execute_result"
    }
   ],
   "source": [
    "val agg4 = hc.sql(\"\"\"\n",
    "  SELECT \n",
    "    dc.cylinders as nb_cylindres,\n",
    "    ROUND(AVG(c.acceleration), 2) as acceleration_moyenne,\n",
    "    ROUND(AVG(c.horsepower), 1) as puissance_moyenne,\n",
    "    ROUND(AVG(c.mpg), 1) as mpg_moyen,\n",
    "    COUNT(*) as nb_vehicules,\n",
    "    ROUND(AVG(c.displacement), 1) as cylindree_moyenne\n",
    "  FROM cars c\n",
    "  JOIN dim_cylinders dc ON c.id_cylinders = dc.id_cylinders\n",
    "  GROUP BY dc.cylinders\n",
    "  ORDER BY dc.cylinders ASC\n",
    "\"\"\")\n",
    "agg4.show()\n"
   ]
  },
  {
   "cell_type": "code",
   "execution_count": 54,
   "id": "28bc0c80",
   "metadata": {},
   "outputs": [
    {
     "data": {
      "text/plain": [
       "agg5 = [modele: string, annee: int ... 4 more fields]\n"
      ]
     },
     "metadata": {},
     "output_type": "display_data"
    },
    {
     "name": "stdout",
     "output_type": "stream",
     "text": [
      "+--------------------+-----+----+---------+-----------------+-------+\n",
      "|              modele|annee| mpg|puissance|ratio_performance|origine|\n",
      "+--------------------+-----+----+---------+-----------------+-------+\n",
      "|           mazda glc| 1980|46.6|     65.0|           30.806|  Japan|\n",
      "| honda civic 1500 gl| 1980|44.6|     67.0|           36.216|  Japan|\n",
      "|vw rabbit c (diesel)| 1980|44.3|     48.0|           23.022| Europe|\n",
      "|           vw pickup| 1982|44.0|     52.0|           24.413| Europe|\n",
      "|  vw dasher (diesel)| 1980|43.4|     48.0|           20.557| Europe|\n",
      "|volkswagen rabbit...| 1978|43.1|     48.0|           24.181| Europe|\n",
      "|           vw rabbit| 1980|41.5|     76.0|           35.448| Europe|\n",
      "|          datsun 210| 1980|40.8|     65.0|           30.806|  Japan|\n",
      "|      datsun b210 gx| 1978|39.4|     70.0|           33.816|  Japan|\n",
      "|      toyota starlet| 1981|39.1|     58.0|           33.048|  Japan|\n",
      "+--------------------+-----+----+---------+-----------------+-------+\n",
      "\n"
     ]
    },
    {
     "data": {
      "text/plain": [
       "[modele: string, annee: int ... 4 more fields]"
      ]
     },
     "execution_count": 54,
     "metadata": {},
     "output_type": "execute_result"
    }
   ],
   "source": [
    "val agg5 = hc.sql(\"\"\"\n",
    "  SELECT \n",
    "    c.name as modele,\n",
    "    (c.year + 1900) as annee,\n",
    "    c.mpg as mpg,\n",
    "    c.horsepower as puissance,\n",
    "    ROUND(c.horsepower / c.weight * 1000, 3) as ratio_performance,\n",
    "    CASE \n",
    "      WHEN do.origin = 1 THEN 'USA'\n",
    "      WHEN do.origin = 2 THEN 'Europe'  \n",
    "      WHEN do.origin = 3 THEN 'Japan'\n",
    "    END as origine\n",
    "  FROM cars c\n",
    "  JOIN dim_origin do ON c.id_origin = do.id_origin\n",
    "  ORDER BY c.mpg DESC\n",
    "  LIMIT 10\n",
    "\"\"\")\n",
    "agg5.show()\n"
   ]
  },
  {
   "cell_type": "code",
   "execution_count": 30,
   "id": "3f13fb7f",
   "metadata": {},
   "outputs": [
    {
     "name": "stdout",
     "output_type": "stream",
     "text": [
      "+------+---------+-----------------+-------------+-------------+----------+\n",
      "|region|  periode|cylindree_moyenne|cylindree_min|cylindree_max|nb_modeles|\n",
      "+------+---------+-----------------+-------------+-------------+----------+\n",
      "|   USA|1970-1974|            293.8|         90.0|        455.0|       102|\n",
      "|   USA|1975-1979|            237.2|         85.0|        400.0|       105|\n",
      "|   USA|1980-1982|            151.9|         86.0|        350.0|        38|\n",
      "|Europe|1970-1974|            102.5|         68.0|        121.0|        27|\n",
      "|Europe|1975-1979|            115.8|         79.0|        183.0|        28|\n",
      "|Europe|1980-1982|            111.2|         89.0|        146.0|        13|\n",
      "| Japan|1970-1974|             96.6|         70.0|        156.0|        21|\n",
      "| Japan|1975-1979|            104.3|         78.0|        156.0|        24|\n",
      "| Japan|1980-1982|            105.4|         70.0|        168.0|        34|\n",
      "+------+---------+-----------------+-------------+-------------+----------+\n",
      "\n"
     ]
    },
    {
     "data": {
      "text/plain": [
       "agg6 = [region: string, periode: string ... 4 more fields]\n"
      ]
     },
     "metadata": {},
     "output_type": "display_data"
    },
    {
     "data": {
      "text/plain": [
       "[region: string, periode: string ... 4 more fields]"
      ]
     },
     "execution_count": 30,
     "metadata": {},
     "output_type": "execute_result"
    }
   ],
   "source": [
    "val agg6 = hc.sql(\"\"\"\n",
    "  SELECT \n",
    "    CASE \n",
    "      WHEN do.origin = 1 THEN 'USA'\n",
    "      WHEN do.origin = 2 THEN 'Europe'  \n",
    "      WHEN do.origin = 3 THEN 'Japan'\n",
    "    END as region,\n",
    "    CASE \n",
    "      WHEN year BETWEEN 70 AND 74 THEN '1970-1974'\n",
    "      WHEN year BETWEEN 75 AND 79 THEN '1975-1979'\n",
    "      WHEN year BETWEEN 80 AND 82 THEN '1980-1982'\n",
    "    END as periode,\n",
    "    ROUND(AVG(c.displacement), 1) as cylindree_moyenne,\n",
    "    ROUND(MIN(c.displacement), 1) as cylindree_min,\n",
    "    ROUND(MAX(c.displacement), 1) as cylindree_max,\n",
    "    COUNT(*) as nb_modeles\n",
    "  FROM cars c\n",
    "  JOIN dim_origin do ON c.id_origin = do.id_origin\n",
    "  GROUP BY do.origin, \n",
    "    CASE \n",
    "      WHEN year BETWEEN 70 AND 74 THEN '1970-1974'\n",
    "      WHEN year BETWEEN 75 AND 79 THEN '1975-1979'\n",
    "      WHEN year BETWEEN 80 AND 82 THEN '1980-1982'\n",
    "    END\n",
    "  ORDER BY do.origin, periode\n",
    "\"\"\")\n",
    "agg6.show()\n"
   ]
  },
  {
   "cell_type": "code",
   "execution_count": null,
   "id": "599b6636",
   "metadata": {},
   "outputs": [
    {
     "name": "stdout",
     "output_type": "stream",
     "text": [
      "+------------+----------+---------+-----------------+--------------+--------------+\n",
      "|constructeur|nb_modeles|mpg_moyen|puissance_moyenne|premiere_annee|derniere_annee|\n",
      "+------------+----------+---------+-----------------+--------------+--------------+\n",
      "|      Autres|       113|     25.3|             97.4|          1970|          1982|\n",
      "|        Ford|        48|     19.5|            112.2|          1970|          1982|\n",
      "|   Chevrolet|        43|     20.5|            112.9|          1970|          1982|\n",
      "|    Plymouth|        31|     21.7|            111.4|          1970|          1982|\n",
      "|       Dodge|        28|     22.1|            117.2|          1970|          1982|\n",
      "|         AMC|        27|     18.1|            114.7|          1970|          1980|\n",
      "|      Toyota|        25|     28.4|             83.4|          1970|          1982|\n",
      "|      Datsun|        23|     31.1|             83.8|          1970|          1982|\n",
      "|  Volkswagen|        21|     31.9|             64.2|          1970|          1982|\n",
      "|       Buick|        17|     19.2|            136.4|          1970|          1982|\n",
      "|     Pontiac|        16|     20.0|            136.9|          1970|          1982|\n",
      "+------------+----------+---------+-----------------+--------------+--------------+\n",
      "\n"
     ]
    },
    {
     "data": {
      "text/plain": [
       "agg7 = [constructeur: string, nb_modeles: bigint ... 4 more fields]\n"
      ]
     },
     "metadata": {},
     "output_type": "display_data"
    },
    {
     "data": {
      "text/plain": [
       "[constructeur: string, nb_modeles: bigint ... 4 more fields]"
      ]
     },
     "execution_count": 31,
     "metadata": {},
     "output_type": "execute_result"
    }
   ],
   "source": [
    "val agg7 = hc.sql(\"\"\"\n",
    "  SELECT \n",
    "    CASE \n",
    "     WH EN name LIKE '%chevrolet%' THEN 'Chevrolet'\n",
    "      WHEN name LIKE '%ford%' THEN 'Ford'\n",
    "      WHEN name LIKE '%toyota%' THEN 'Toyota'\n",
    "      WHEN name LIKE '%plymouth%' THEN 'Plymouth'\n",
    "      WHEN name LIKE '%dodge%' THEN 'Dodge'\n",
    "      WHEN name LIKE '%amc%' THEN 'AMC'\n",
    "      WHEN name LIKE '%pontiac%' THEN 'Pontiac'\n",
    "      WHEN name LIKE '%buick%' THEN 'Buick'\n",
    "      WHEN name LIKE '%volkswagen%' OR name LIKE '%vw%' THEN 'Volkswagen'\n",
    "      WHEN name LIKE '%datsun%' THEN 'Datsun'\n",
    "      ELSE 'Autres'\n",
    "    END as constructeur,\n",
    "    COUNT(*) as nb_modeles,\n",
    "    ROUND(AVG(mpg), 1) as mpg_moyen,\n",
    "    ROUND(AVG(horsepower), 1) as puissance_moyenne,\n",
    "    (MIN(year) + 1900) as premiere_annee,\n",
    "    (MAX(year) + 1900) as derniere_annee\n",
    "  FROM cars\n",
    "  GROUP BY \n",
    "    CASE \n",
    "      WHEN name LIKE '%chevrolet%' THEN 'Chevrolet'\n",
    "      WHEN name LIKE '%ford%' THEN 'Ford'\n",
    "      WHEN name LIKE '%toyota%' THEN 'Toyota'\n",
    "      WHEN name LIKE '%plymouth%' THEN 'Plymouth'\n",
    "      WHEN name LIKE '%dodge%' THEN 'Dodge'\n",
    "      WHEN name LIKE '%amc%' THEN 'AMC'\n",
    "      WHEN name LIKE '%pontiac%' THEN 'Pontiac'\n",
    "      WHEN name LIKE '%buick%' THEN 'Buick'\n",
    "      WHEN name LIKE '%volkswagen%' OR name LIKE '%vw%' THEN 'Volkswagen'\n",
    "      WHEN name LIKE '%datsun%' THEN 'Datsun'\n",
    "      ELSE 'Autres'\n",
    "    END\n",
    "  HAVING nb_modeles >= 3\n",
    "  ORDER BY nb_modeles DESC\n",
    "\"\"\")\n",
    "agg7.show()\n"
   ]
  },
  {
   "cell_type": "code",
   "execution_count": 55,
   "id": "f0d051d9",
   "metadata": {},
   "outputs": [
    {
     "name": "stdout",
     "output_type": "stream",
     "text": [
      "+------+---------+-----------------------+-----------------+---------+-----------+\n",
      "|region|cylinders|nb_vehicules_haute_perf|puissance_moyenne|mpg_moyen|poids_moyen|\n",
      "+------+---------+-----------------------+-----------------+---------+-----------+\n",
      "|   USA|        8|                     17|            208.6|     12.9|     4398.0|\n",
      "+------+---------+-----------------------+-----------------+---------+-----------+\n",
      "\n"
     ]
    },
    {
     "data": {
      "text/plain": [
       "agg8 = [region: string, cylinders: int ... 4 more fields]\n"
      ]
     },
     "metadata": {},
     "output_type": "display_data"
    },
    {
     "data": {
      "text/plain": [
       "[region: string, cylinders: int ... 4 more fields]"
      ]
     },
     "execution_count": 55,
     "metadata": {},
     "output_type": "execute_result"
    }
   ],
   "source": [
    "val agg8 = hc.sql(\"\"\"\n",
    "  SELECT \n",
    "    CASE \n",
    "      WHEN do.origin = 1 THEN 'USA'\n",
    "      WHEN do.origin = 2 THEN 'Europe'  \n",
    "      WHEN do.origin = 3 THEN 'Japan'\n",
    "    END as region,\n",
    "    dc.cylinders,\n",
    "    COUNT(*) as nb_vehicules_haute_perf,\n",
    "    ROUND(AVG(c.horsepower), 1) as puissance_moyenne,\n",
    "    ROUND(AVG(c.mpg), 1) as mpg_moyen,\n",
    "    ROUND(AVG(c.weight), 0) as poids_moyen\n",
    "  FROM cars c\n",
    "  JOIN dim_origin do ON c.id_origin = do.id_origin\n",
    "  JOIN dim_cylinders dc ON c.id_cylinders = dc.id_cylinders\n",
    "  WHERE c.horsepower > 180\n",
    "  GROUP BY do.origin, dc.cylinders\n",
    "  ORDER BY puissance_moyenne DESC\n",
    "\"\"\")\n",
    "agg8.show()\n"
   ]
  }
 ],
 "metadata": {
  "kernelspec": {
   "display_name": "Apache Toree - Scala",
   "language": "scala",
   "name": "apache_toree_scala"
  },
  "language_info": {
   "codemirror_mode": "text/x-scala",
   "file_extension": ".scala",
   "mimetype": "text/x-scala",
   "name": "scala",
   "pygments_lexer": "scala",
   "version": "2.12.15"
  }
 },
 "nbformat": 4,
 "nbformat_minor": 5
}
