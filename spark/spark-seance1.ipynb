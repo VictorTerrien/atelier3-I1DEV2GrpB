{
 "cells": [
  {
   "cell_type": "markdown",
   "id": "eb528a20",
   "metadata": {},
   "source": [
    "# Étape 3 - Chargement, pré-traitement"
   ]
  },
  {
   "cell_type": "code",
   "execution_count": 4,
   "id": "ede58edf",
   "metadata": {},
   "outputs": [
    {
     "name": "stdout",
     "output_type": "stream",
     "text": [
      "+--------+----+---------+------------+----------+------+------------+----+------+--------------------+\n",
      "|rownames| mpg|cylinders|displacement|horsepower|weight|acceleration|year|origin|                name|\n",
      "+--------+----+---------+------------+----------+------+------------+----+------+--------------------+\n",
      "|       1|18.0|        8|       307.0|       130|  3504|        12.0|  70|     1|chevrolet chevell...|\n",
      "|       2|15.0|        8|       350.0|       165|  3693|        11.5|  70|     1|   buick skylark 320|\n",
      "|       3|18.0|        8|       318.0|       150|  3436|        11.0|  70|     1|  plymouth satellite|\n",
      "|       4|16.0|        8|       304.0|       150|  3433|        12.0|  70|     1|       amc rebel sst|\n",
      "|       5|17.0|        8|       302.0|       140|  3449|        10.5|  70|     1|         ford torino|\n",
      "|       6|15.0|        8|       429.0|       198|  4341|        10.0|  70|     1|    ford galaxie 500|\n",
      "|       7|14.0|        8|       454.0|       220|  4354|         9.0|  70|     1|    chevrolet impala|\n",
      "|       8|14.0|        8|       440.0|       215|  4312|         8.5|  70|     1|   plymouth fury iii|\n",
      "|       9|14.0|        8|       455.0|       225|  4425|        10.0|  70|     1|    pontiac catalina|\n",
      "|      10|15.0|        8|       390.0|       190|  3850|         8.5|  70|     1|  amc ambassador dpl|\n",
      "|      11|15.0|        8|       383.0|       170|  3563|        10.0|  70|     1| dodge challenger se|\n",
      "|      12|14.0|        8|       340.0|       160|  3609|         8.0|  70|     1|  plymouth 'cuda 340|\n",
      "|      13|15.0|        8|       400.0|       150|  3761|         9.5|  70|     1|chevrolet monte c...|\n",
      "|      14|14.0|        8|       455.0|       225|  3086|        10.0|  70|     1|buick estate wago...|\n",
      "|      15|24.0|        4|       113.0|        95|  2372|        15.0|  70|     3|toyota corona mar...|\n",
      "|      16|22.0|        6|       198.0|        95|  2833|        15.5|  70|     1|     plymouth duster|\n",
      "|      17|18.0|        6|       199.0|        97|  2774|        15.5|  70|     1|          amc hornet|\n",
      "|      18|21.0|        6|       200.0|        85|  2587|        16.0|  70|     1|       ford maverick|\n",
      "|      19|27.0|        4|        97.0|        88|  2130|        14.5|  70|     3|        datsun pl510|\n",
      "|      20|26.0|        4|        97.0|        46|  1835|        20.5|  70|     2|volkswagen 1131 d...|\n",
      "+--------+----+---------+------------+----------+------+------------+----+------+--------------------+\n",
      "only showing top 20 rows\n",
      "\n"
     ]
    },
    {
     "data": {
      "text/plain": [
       "defined class Car\n",
       "carDF = [rownames: int, mpg: double ... 8 more fields]\n"
      ]
     },
     "metadata": {},
     "output_type": "display_data"
    },
    {
     "data": {
      "text/plain": [
       "[rownames: int, mpg: double ... 8 more fields]"
      ]
     },
     "execution_count": 4,
     "metadata": {},
     "output_type": "execute_result"
    }
   ],
   "source": [
    "import com.google.gson.Gson\n",
    "\n",
    "case class Car(\n",
    "  rownames: Int,\n",
    "  mpg: Double,\n",
    "  cylinders: Int,\n",
    "  displacement: Double,\n",
    "  horsepower: Double,\n",
    "  weight: Double,\n",
    "  acceleration: Double,\n",
    "  year: Int,\n",
    "  origin: Int,\n",
    "  name: String\n",
    ")\n",
    "\n",
    "\n",
    "val carDF = spark.read\n",
    "  .option(\"header\", \"true\")\n",
    "  .option(\"inferSchema\", \"true\")\n",
    "  .csv(\"./data-car.csv\")\n",
    "  .as[Car]\n",
    "\n",
    "\n",
    "carDF.show()"
   ]
  }
 ],
 "metadata": {
  "kernelspec": {
   "display_name": "Apache Toree - Scala",
   "language": "scala",
   "name": "apache_toree_scala"
  },
  "language_info": {
   "codemirror_mode": "text/x-scala",
   "file_extension": ".scala",
   "mimetype": "text/x-scala",
   "name": "scala",
   "pygments_lexer": "scala",
   "version": "2.12.15"
  }
 },
 "nbformat": 4,
 "nbformat_minor": 5
}
